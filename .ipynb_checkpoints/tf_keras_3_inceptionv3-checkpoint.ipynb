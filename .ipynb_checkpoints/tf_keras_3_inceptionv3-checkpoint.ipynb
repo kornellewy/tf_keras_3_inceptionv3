{
 "cells": [
  {
   "cell_type": "code",
   "execution_count": 1,
   "metadata": {},
   "outputs": [
    {
     "name": "stderr",
     "output_type": "stream",
     "text": [
      "Using TensorFlow backend.\n"
     ]
    },
    {
     "data": {
      "text/plain": [
       "['/job:localhost/replica:0/task:0/device:GPU:0']"
      ]
     },
     "execution_count": 1,
     "metadata": {},
     "output_type": "execute_result"
    }
   ],
   "source": [
    "%reload_ext autoreload\n",
    "%autoreload 2\n",
    "%matplotlib inline\n",
    "\n",
    "import keras\n",
    "import tensorflow as tf\n",
    "import numpy as np\n",
    "from keras.preprocessing.image import ImageDataGenerator, image\n",
    "from keras.layers import Dropout, Flatten, Dense, GlobalAveragePooling2D, Activation, Conv2D, MaxPooling2D, Input\n",
    "from keras.applications.inception_v3 import InceptionV3,preprocess_input, decode_predictions\n",
    "from keras.models import Model, Sequential\n",
    "import matplotlib.pyplot as plt\n",
    "\n",
    "from keras import backend as K\n",
    "K.tensorflow_backend._get_available_gpus()"
   ]
  },
  {
   "cell_type": "code",
   "execution_count": 8,
   "metadata": {},
   "outputs": [],
   "source": [
    "# base pretrain model izi use, castom tensor\n",
    "input_tensor = Input(shape=(224,224,3))\n",
    "# but we use none for 2.jpg and input_tensor for 1.jpg\n",
    "model = InceptionV3(input_tensor=input_tensor, weights='imagenet', include_top=True)"
   ]
  },
  {
   "cell_type": "code",
   "execution_count": 13,
   "metadata": {},
   "outputs": [],
   "source": [
    "#model.summary()\n",
    "# predict only for 299,299 and kolr 3\n",
    "graph = tf.get_default_graph()\n",
    "def predict_299_299(img_file):\n",
    "    img = image.load_img(img_file, target_size=(299,299))\n",
    "    arrey_img = image.img_to_array(img)\n",
    "    arrey_img = np.expand_dims(arrey_img, axis=0)\n",
    "    arrey_img = preprocess_input(arrey_img)\n",
    "    \n",
    "    global graph\n",
    "    with graph.as_default():\n",
    "        prediction = model.predict(arrey_img)\n",
    "        \n",
    "    top3 = decode_predictions(prediction, top=3)[0]\n",
    "    \n",
    "    predictions = [{'label': label, 'description': description, 'probability': probability * 100.0}\n",
    "                    for label,description, probability in top3]\n",
    "    return predictions\n",
    "\n",
    "def predict_224_224(img_file):\n",
    "    img = image.load_img(img_file, target_size=(224,224))\n",
    "    arrey_img = image.img_to_array(img)\n",
    "    arrey_img = np.expand_dims(arrey_img, axis=0)\n",
    "    arrey_img = preprocess_input(arrey_img)\n",
    "    \n",
    "    global graph\n",
    "    with graph.as_default():\n",
    "        prediction = model.predict(arrey_img)\n",
    "        \n",
    "    top3 = decode_predictions(prediction, top=3)[0]\n",
    "    \n",
    "    predictions = [{'label': label, 'description': description, 'probability': probability * 100.0}\n",
    "                    for label,description, probability in top3]\n",
    "    return predictions\n",
    "    "
   ]
  },
  {
   "cell_type": "code",
   "execution_count": 14,
   "metadata": {},
   "outputs": [
    {
     "data": {
      "text/plain": [
       "[{'label': 'n03770679',\n",
       "  'description': 'minivan',\n",
       "  'probability': 99.99613761901855},\n",
       " {'label': 'n02974003',\n",
       "  'description': 'car_wheel',\n",
       "  'probability': 0.0005952570973022375},\n",
       " {'label': 'n02814533',\n",
       "  'description': 'beach_wagon',\n",
       "  'probability': 0.0005859754310222343}]"
      ]
     },
     "execution_count": 14,
     "metadata": {},
     "output_type": "execute_result"
    }
   ],
   "source": [
    "path = '1.jpg'\n",
    "predict_224_224(path)"
   ]
  },
  {
   "cell_type": "code",
   "execution_count": null,
   "metadata": {},
   "outputs": [],
   "source": [
    "# base pretrain model no last layer for new set of classes\n",
    "base_model = InceptionV3(weights='imagenet', include_top=False)"
   ]
  },
  {
   "cell_type": "code",
   "execution_count": null,
   "metadata": {},
   "outputs": [],
   "source": [
    "x = base_model.output\n",
    "# we add GlobalAveragePooling2D that is beter max pooling (in 3d)\n",
    "x = GlobalAveragePooling2D()(x)\n",
    "# we add fully conected layer\n",
    "x = Dense(1024, activation='relu')(x)\n",
    "# add logistic layer for 200 classes\n",
    "prediction = Dense(200, activation='softmax')(x)"
   ]
  },
  {
   "cell_type": "code",
   "execution_count": null,
   "metadata": {},
   "outputs": [],
   "source": [
    "# this is model that we will trains\n",
    "kjn_model_inceptionv3 = Model(inputs=base_model.input, output=prediction)"
   ]
  },
  {
   "cell_type": "code",
   "execution_count": null,
   "metadata": {},
   "outputs": [],
   "source": [
    "# we only will train last layers becose they were random initialized\n",
    "# so we freez rest of leyers\n",
    "for layer in base_model.layers:\n",
    "    layer.trainable = False"
   ]
  },
  {
   "cell_type": "code",
   "execution_count": null,
   "metadata": {},
   "outputs": [],
   "source": []
  }
 ],
 "metadata": {
  "kernelspec": {
   "display_name": "Python 3",
   "language": "python",
   "name": "python3"
  },
  "language_info": {
   "codemirror_mode": {
    "name": "ipython",
    "version": 3
   },
   "file_extension": ".py",
   "mimetype": "text/x-python",
   "name": "python",
   "nbconvert_exporter": "python",
   "pygments_lexer": "ipython3",
   "version": "3.6.5"
  }
 },
 "nbformat": 4,
 "nbformat_minor": 2
}
